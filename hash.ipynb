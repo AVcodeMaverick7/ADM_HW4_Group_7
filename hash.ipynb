{
 "cells": [
  {
   "cell_type": "code",
   "execution_count": 4,
   "metadata": {},
   "outputs": [],
   "source": [
    "#here we import the file and assign its rows to pss list\n",
    "with open(\"C:\\\\Users\\Matteo Cavalletti\\Downloads\\passwords2.txt\")as f:\n",
    "    pss = f.readlines()\n",
    "     "
   ]
  },
  {
   "cell_type": "code",
   "execution_count": 5,
   "metadata": {},
   "outputs": [],
   "source": [
    "#here we clean each string from \"\\n\" now they are for hashing\n",
    "for i in range(len(pss)):\n",
    "    pss[i] = pss[i].replace(\"\\n\",\"\")"
   ]
  },
  {
   "cell_type": "code",
   "execution_count": 31,
   "metadata": {},
   "outputs": [],
   "source": [
    "#here we have oconversion using ascii values\n",
    "def con(string):\n",
    "    s = list(string)\n",
    "    conv = 0\n",
    "    for c in s:\n",
    "        conv = conv+ ord(c)*(ord(c)^19)\n",
    "    \n",
    "    return(conv)"
   ]
  },
  {
   "cell_type": "code",
   "execution_count": 24,
   "metadata": {},
   "outputs": [],
   "source": [
    "#here we have hash function\n",
    "def hash_f(key):\n",
    "    return(key%5001+key%6001+key%7001) "
   ]
  },
  {
   "cell_type": "code",
   "execution_count": null,
   "metadata": {},
   "outputs": [],
   "source": [
    "#here we create two dictionaries one to link passwords to numbers and one to link numbers to hash values\n",
    "dic_pss={}\n",
    "dic_hash={}\n",
    "for p in pss:\n",
    "    conv= con(p)\n",
    "    dic_pss[p]=conv\n",
    "    dic_pss[hash_f(conv)]=[conv]"
   ]
  }
 ],
 "metadata": {
  "kernelspec": {
   "display_name": "Python 3",
   "language": "python",
   "name": "python3"
  },
  "language_info": {
   "codemirror_mode": {
    "name": "ipython",
    "version": 3
   },
   "file_extension": ".py",
   "mimetype": "text/x-python",
   "name": "python",
   "nbconvert_exporter": "python",
   "pygments_lexer": "ipython3",
   "version": "3.6.5"
  }
 },
 "nbformat": 4,
 "nbformat_minor": 2
}
