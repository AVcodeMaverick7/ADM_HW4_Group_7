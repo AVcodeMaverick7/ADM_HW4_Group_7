{
 "cells": [
  {
   "cell_type": "code",
   "execution_count": 1,
   "metadata": {},
   "outputs": [],
   "source": [
    "import requests\n",
    "from bs4 import BeautifulSoup\n",
    "import pandas as pd\n",
    "from urllib.request import urlopen as ureq\n",
    "import re"
   ]
  },
  {
   "cell_type": "code",
   "execution_count": 2,
   "metadata": {},
   "outputs": [],
   "source": [
    "df = pd.DataFrame(columns =['price', 'locali', 'superficie', 'bagni','piano'])"
   ]
  },
  {
   "cell_type": "code",
   "execution_count": 3,
   "metadata": {},
   "outputs": [],
   "source": [
    "links=[]\n",
    "for i in range(1,5):\n",
    "    content = requests.get(\"https://www.immobiliare.it/vendita-case/roma/?criterio=rilevanza&pag=\"+str(i))\n",
    "    Soup=BeautifulSoup(content.text,'html.parser')\n",
    "    Urls = []\n",
    "    for link in Soup.find_all('a'):\n",
    "        if(link.get('href')and 'search' not in link.get('href')):\n",
    "             Urls.append(link.get('href'))\n",
    "    for link in Urls:\n",
    "        if link.endswith('.html') and link.startswith('https://www.immobiliare.it/')and re.search('\\d+', link):\n",
    "             links.append(link)\n",
    "        "
   ]
  },
  {
   "cell_type": "code",
   "execution_count": 4,
   "metadata": {},
   "outputs": [
    {
     "data": {
      "text/plain": [
       "144"
      ]
     },
     "execution_count": 4,
     "metadata": {},
     "output_type": "execute_result"
    }
   ],
   "source": [
    "len(Urls)"
   ]
  },
  {
   "cell_type": "code",
   "execution_count": 5,
   "metadata": {},
   "outputs": [
    {
     "data": {
      "text/plain": [
       "99"
      ]
     },
     "execution_count": 5,
     "metadata": {},
     "output_type": "execute_result"
    }
   ],
   "source": [
    "len(links)"
   ]
  },
  {
   "cell_type": "code",
   "execution_count": 23,
   "metadata": {
    "collapsed": true
   },
   "outputs": [
    {
     "data": {
      "text/plain": [
       "['https://www.immobiliare.it/53131931-Vendita-Bilocale-viale-Italo-Calvino-Roma.html',\n",
       " 'https://www.immobiliare.it/69866648-Vendita-Quadrilocale-via-Mario-Ridolfi-32-Roma.html',\n",
       " 'https://www.immobiliare.it/68373749-Vendita-Appartamento-via-dei-Gandolfi-Roma.html',\n",
       " 'https://www.immobiliare.it/68083741-Vendita-Villa-via-Casalmonferrato-Roma.html',\n",
       " 'https://www.immobiliare.it/65062100-Vendita-Appartamento-piazza-Cavour-Roma.html',\n",
       " 'https://www.immobiliare.it/63857680-Vendita-Quadrilocale-viale-della-Grande-Muraglia-Roma.html',\n",
       " 'https://www.immobiliare.it/67959361-Vendita-Appartamento-piazza-Del-Fante-Roma.html',\n",
       " 'https://www.immobiliare.it/67012733-Vendita-Attico-Mansarda-via-della-Frezza-Roma.html',\n",
       " 'https://www.immobiliare.it/61733354-Vendita-Appartamento-via-Dandolo-Roma.html',\n",
       " 'https://www.immobiliare.it/70043828-Vendita-Appartamento-via-del-Calice-Roma.html',\n",
       " 'https://www.immobiliare.it/65779135-Vendita-Trilocale-via-dei-Banchi-Vecchi-Roma.html',\n",
       " 'https://www.immobiliare.it/64401288-Vendita-Villa-via-Cristoforo-Sabbadino-Roma.html',\n",
       " 'https://www.immobiliare.it/67991129-Vendita-Loft-Open-Space-via-della-Fontana-5-Roma.html',\n",
       " 'https://www.immobiliare.it/66088401-Vendita-Bilocale-via-Silicella-17-Roma.html',\n",
       " 'https://www.immobiliare.it/64673188-Vendita-Bilocale-via-Mario-Musco-82-Roma.html',\n",
       " 'https://www.immobiliare.it/69904842-Vendita-Villa-via-Raffaele-Conforti-67-Roma.html',\n",
       " 'https://www.immobiliare.it/67738567-Vendita-Attico-Mansarda-via-degli-Armenti-70-Roma.html',\n",
       " 'https://www.immobiliare.it/67281105-Vendita-Appartamento-via-di-San-Vito-Roma.html',\n",
       " 'https://www.immobiliare.it/62947138-Vendita-Appartamento-via-del-Governo-Vecchio-Roma.html',\n",
       " 'https://www.immobiliare.it/70147844-Vendita-Trilocale-via-Mortara-5-Roma.html',\n",
       " 'https://www.immobiliare.it/68085925-Vendita-Trilocale-via-Zaccanopoli-Roma.html',\n",
       " 'https://www.immobiliare.it/63170550-Vendita-Quadrilocale-via-Radicofani-31-Roma.html',\n",
       " 'https://www.immobiliare.it/70373904-Vendita-Trilocale-via-Columella-Roma.html',\n",
       " 'https://www.immobiliare.it/65564714-Vendita-Appartamento-via-Delle-Isole-Roma.html',\n",
       " 'https://www.immobiliare.it/70089532-Vendita-Appartamento-viale-parioli-37-Roma.html',\n",
       " 'https://www.immobiliare.it/69580780-Vendita-Appartamento-via-Pinerolo-Roma.html',\n",
       " 'https://www.immobiliare.it/67401927-Vendita-Trilocale-via-del-Cottanello-Roma.html',\n",
       " 'https://www.immobiliare.it/66650211-Vendita-Appartamento-via-dei-Colli-della-Roma.html',\n",
       " 'https://www.immobiliare.it/60582078-Vendita-Bilocale-via-Dei-Banchi-Nuovi-Roma.html',\n",
       " 'https://www.immobiliare.it/68518819-Vendita-Quadrilocale-via-Suor-Maria-Agostina-Roma.html',\n",
       " 'https://www.immobiliare.it/68153189-Vendita-Appartamento-piazza-Camillo-Benso-di-Cavour-Roma.html',\n",
       " 'https://www.immobiliare.it/67281797-Vendita-Quadrilocale-via-dei-Chiavari-Roma.html',\n",
       " 'https://www.immobiliare.it/63995256-Vendita-Villa-largo-Olgiata-15-Roma.html',\n",
       " 'https://www.immobiliare.it/69722980-Vendita-Quadrilocale-via-Cristoforo-Sabbadino-Roma.html',\n",
       " 'https://www.immobiliare.it/69451666-Vendita-Trilocale-via-della-Balduina-Roma.html',\n",
       " 'https://www.immobiliare.it/68929529-Vendita-Trilocale-via-Mattia-Battistini-220B-Roma.html',\n",
       " 'https://www.immobiliare.it/68601391-Vendita-Attico-Mansarda-via-Nicolo-Piccolomini-Roma.html',\n",
       " 'https://www.immobiliare.it/64540628-Vendita-Quadrilocale-viale-Angelico-Roma.html',\n",
       " 'https://www.immobiliare.it/66714575-Vendita-Quadrilocale-via-Giulio-Pasquati-210-Roma.html',\n",
       " 'https://www.immobiliare.it/69659060-Vendita-Appartamento-via-Germanico-24-Roma.html',\n",
       " 'https://www.immobiliare.it/69292298-Vendita-Appartamento-via-della-Farnesina-323-Roma.html',\n",
       " 'https://www.immobiliare.it/69084658-Vendita-Appartamento-via-Caroncini-Roma.html',\n",
       " 'https://www.immobiliare.it/67242549-Vendita-Appartamento-via-Luigi-Ungarelli-Roma.html',\n",
       " 'https://www.immobiliare.it/54201768-Vendita-Villa-via-Tommaso-Traetta-Roma.html',\n",
       " 'https://www.immobiliare.it/70114826-Vendita-Trilocale-via-Genserico-Fontana-11-Roma.html',\n",
       " 'https://www.immobiliare.it/68902925-Vendita-Attico-Mansarda-via-Taranto-100-Roma.html',\n",
       " 'https://www.immobiliare.it/68630129-Vendita-Bilocale-via-Castiglione-della-Roma.html',\n",
       " 'https://www.immobiliare.it/67531639-Vendita-Attico-Mansarda-via-Bartolomeo-Dusi-18-Roma.html',\n",
       " 'https://www.immobiliare.it/66484469-Vendita-Bilocale-viale-Cortina-d-Ampezzo-Roma.html',\n",
       " 'https://www.immobiliare.it/68172417-Vendita-Trilocale-via-L-Aquila-33-Roma.html',\n",
       " 'https://www.immobiliare.it/67414483-Vendita-Appartamento-via-Di-Villa-Ada-Roma.html',\n",
       " 'https://www.immobiliare.it/63016632-Vendita-Trilocale-via-Radicofani-Roma.html',\n",
       " 'https://www.immobiliare.it/69729652-Vendita-Villa-via-della-Magliana-Nuova-20-Roma.html',\n",
       " 'https://www.immobiliare.it/68683483-Vendita-Appartamento-viale-dell-Aeronautica-Roma.html',\n",
       " 'https://www.immobiliare.it/67706335-immobili_commerciali-ufficio-in-vendita-Roma.html',\n",
       " 'https://www.immobiliare.it/69489650-Vendita-Quadrilocale-via-Alessandro-Fleming-Roma.html',\n",
       " 'https://www.immobiliare.it/69731442-Vendita-Bilocale-via-Alessandro-Cialdi-Roma.html',\n",
       " 'https://www.immobiliare.it/69518256-Vendita-Trilocale-via-Angelo-Emo-25-Roma.html',\n",
       " 'https://www.immobiliare.it/68404119-Vendita-Trilocale-largo-Ecuador-Roma.html',\n",
       " 'https://www.immobiliare.it/64328654-Vendita-Quadrilocale-via-Francesco-Massi-10-Roma.html',\n",
       " 'https://www.immobiliare.it/69586174-Vendita-Appartamento-Cortina-D-ampezzo-Roma.html',\n",
       " 'https://www.immobiliare.it/64762998-Vendita-Attico-Mansarda-viale-Ezra-Pound-Roma.html',\n",
       " 'https://www.immobiliare.it/70343364-Vendita-Trilocale-viale-della-Venezia-Giulia-50-Roma.html',\n",
       " 'https://www.immobiliare.it/70084416-Vendita-Appartamento-via-Nomentana-833-Roma.html',\n",
       " 'https://www.immobiliare.it/69848852-Vendita-Bilocale-piazza-di-San-Cosimato-73-Roma.html',\n",
       " 'https://www.immobiliare.it/67406315-Vendita-Quadrilocale-via-della-Mendola-18-Roma.html',\n",
       " 'https://www.immobiliare.it/66479763-Vendita-Appartamento-via-Sesto-Rufo-42-Roma.html',\n",
       " 'https://www.immobiliare.it/69192522-Vendita-Quadrilocale-via-Aosta-45-Roma.html',\n",
       " 'https://www.immobiliare.it/70114842-Vendita-Attico-Mansarda-via-Degli-Orti-Di-Galba-Roma.html',\n",
       " 'https://www.immobiliare.it/70374090-Vendita-Appartamento-via-del-Casale-Ferranti-37-Roma.html',\n",
       " 'https://www.immobiliare.it/66667845-Vendita-Attico-Mansarda-piazza-di-San-Calisto-Roma.html',\n",
       " 'https://www.immobiliare.it/70337548-Vendita-Attico-Mansarda-via-Copenaghen-9-Roma.html',\n",
       " 'https://www.immobiliare.it/70265150-Vendita-Trilocale-via-Carlo-Dapporto-38-Roma.html',\n",
       " 'https://www.immobiliare.it/70265152-Vendita-Trilocale-via-Bronte-85-Roma.html',\n",
       " 'https://www.immobiliare.it/69041486-Vendita-Appartamento-via-Massimi-Roma.html',\n",
       " 'https://www.immobiliare.it/67913515-Vendita-Trilocale-via-del-Pigneto-Roma.html',\n",
       " 'https://www.immobiliare.it/67622989-Vendita-Appartamento-via-San-Marcello-Pistoiese-73-Roma.html',\n",
       " 'https://www.immobiliare.it/68192795-Vendita-Attico-Mansarda-largo-Arturo-Donaggio-Roma.html',\n",
       " 'https://www.immobiliare.it/68632829-Vendita-Trilocale-via-Foligno-14-Roma.html',\n",
       " 'https://www.immobiliare.it/69353672-Vendita-Villa-via-Camillo-Porzio-Roma.html',\n",
       " 'https://www.immobiliare.it/68986837-Vendita-Bilocale-via-del-Cottanello-Roma.html',\n",
       " 'https://www.immobiliare.it/67950501-Vendita-Appartamento-via-Lucio-Apuleio-9-Roma.html',\n",
       " 'https://www.immobiliare.it/69686894-Vendita-Bilocale-via-Ignazio-Ribotti-Roma.html',\n",
       " 'https://www.immobiliare.it/69566282-Vendita-Attico-Mansarda-via-Bevagna-Roma.html',\n",
       " 'https://www.immobiliare.it/64957198-Vendita-Appartamento-via-del-Biscione-Roma.html',\n",
       " 'https://www.immobiliare.it/70107928-Vendita-Trilocale-via-Fontanellato-75-Roma.html',\n",
       " 'https://www.immobiliare.it/69377992-Vendita-Quadrilocale-via-Mattia-Battistini-Roma.html',\n",
       " 'https://www.immobiliare.it/68032821-Vendita-Palazzo-Stabile-via-Nomentana-Roma.html',\n",
       " 'https://www.immobiliare.it/66815893-Vendita-Villa-via-Saturnia-Roma.html',\n",
       " 'https://www.immobiliare.it/69489816-Vendita-Appartamento-via-degli-Spagnoli-Roma.html',\n",
       " 'https://www.immobiliare.it/68842493-Vendita-Appartamento-via-Nomentana-Roma.html',\n",
       " 'https://www.immobiliare.it/64236874-Vendita-Appartamento-via-della-Tribuna-di-Roma.html',\n",
       " 'https://www.immobiliare.it/68011717-Vendita-Trilocale-via-delle-Palme-16-Roma.html',\n",
       " 'https://www.immobiliare.it/66064221-Vendita-Appartamento-viale-delle-Mura-Gianicolensi-Roma.html',\n",
       " 'https://www.immobiliare.it/65915711-Vendita-Appartamento-via-del-Giuba-Roma.html',\n",
       " 'https://www.immobiliare.it/69728680-Vendita-Trilocale-via-della-Camilluccia-273-Roma.html',\n",
       " 'https://www.immobiliare.it/61128410-Vendita-Attico-Mansarda-via-Ignazio-Scimonelli-130-Roma.html',\n",
       " 'https://www.immobiliare.it/69754878-Vendita-Box-Garage-via-Giuseppe-Renato-Bellot-46-Roma.html',\n",
       " 'https://www.immobiliare.it/66890473-Vendita-Appartamento-via-Margutta-Roma.html']"
      ]
     },
     "execution_count": 23,
     "metadata": {},
     "output_type": "execute_result"
    }
   ],
   "source": [
    "links"
   ]
  },
  {
   "cell_type": "code",
   "execution_count": 8,
   "metadata": {},
   "outputs": [
    {
     "ename": "AttributeError",
     "evalue": "'list' object has no attribute 'timeout'",
     "output_type": "error",
     "traceback": [
      "\u001b[1;31m---------------------------------------------------------------------------\u001b[0m",
      "\u001b[1;31mAttributeError\u001b[0m                            Traceback (most recent call last)",
      "\u001b[1;32m<ipython-input-8-1139f6a04d1e>\u001b[0m in \u001b[0;36m<module>\u001b[1;34m()\u001b[0m\n\u001b[0;32m      1\u001b[0m \u001b[1;31m# Opening and picking up the content\u001b[0m\u001b[1;33m\u001b[0m\u001b[1;33m\u001b[0m\u001b[0m\n\u001b[0;32m      2\u001b[0m \u001b[0mPageLink\u001b[0m \u001b[1;33m=\u001b[0m \u001b[1;33m[\u001b[0m\u001b[0mPagelink\u001b[0m \u001b[1;32mfor\u001b[0m \u001b[0mPagelink\u001b[0m \u001b[1;32min\u001b[0m \u001b[0mUrls\u001b[0m\u001b[1;33m]\u001b[0m\u001b[1;33m\u001b[0m\u001b[0m\n\u001b[1;32m----> 3\u001b[1;33m \u001b[0muPage\u001b[0m \u001b[1;33m=\u001b[0m \u001b[0mureq\u001b[0m\u001b[1;33m(\u001b[0m\u001b[0mPageLink\u001b[0m\u001b[1;33m)\u001b[0m\u001b[1;33m\u001b[0m\u001b[0m\n\u001b[0m\u001b[0;32m      4\u001b[0m \u001b[0mPageHtml\u001b[0m \u001b[1;33m=\u001b[0m \u001b[0muPage\u001b[0m\u001b[1;33m.\u001b[0m\u001b[0mread\u001b[0m\u001b[1;33m(\u001b[0m\u001b[1;33m)\u001b[0m\u001b[1;33m\u001b[0m\u001b[0m\n\u001b[0;32m      5\u001b[0m \u001b[0muPage\u001b[0m\u001b[1;33m.\u001b[0m\u001b[0mclose\u001b[0m\u001b[1;33m(\u001b[0m\u001b[1;33m)\u001b[0m\u001b[1;33m\u001b[0m\u001b[0m\n",
      "\u001b[1;32m~\\Anaconda3\\lib\\urllib\\request.py\u001b[0m in \u001b[0;36murlopen\u001b[1;34m(url, data, timeout, cafile, capath, cadefault, context)\u001b[0m\n\u001b[0;32m    220\u001b[0m     \u001b[1;32melse\u001b[0m\u001b[1;33m:\u001b[0m\u001b[1;33m\u001b[0m\u001b[0m\n\u001b[0;32m    221\u001b[0m         \u001b[0mopener\u001b[0m \u001b[1;33m=\u001b[0m \u001b[0m_opener\u001b[0m\u001b[1;33m\u001b[0m\u001b[0m\n\u001b[1;32m--> 222\u001b[1;33m     \u001b[1;32mreturn\u001b[0m \u001b[0mopener\u001b[0m\u001b[1;33m.\u001b[0m\u001b[0mopen\u001b[0m\u001b[1;33m(\u001b[0m\u001b[0murl\u001b[0m\u001b[1;33m,\u001b[0m \u001b[0mdata\u001b[0m\u001b[1;33m,\u001b[0m \u001b[0mtimeout\u001b[0m\u001b[1;33m)\u001b[0m\u001b[1;33m\u001b[0m\u001b[0m\n\u001b[0m\u001b[0;32m    223\u001b[0m \u001b[1;33m\u001b[0m\u001b[0m\n\u001b[0;32m    224\u001b[0m \u001b[1;32mdef\u001b[0m \u001b[0minstall_opener\u001b[0m\u001b[1;33m(\u001b[0m\u001b[0mopener\u001b[0m\u001b[1;33m)\u001b[0m\u001b[1;33m:\u001b[0m\u001b[1;33m\u001b[0m\u001b[0m\n",
      "\u001b[1;32m~\\Anaconda3\\lib\\urllib\\request.py\u001b[0m in \u001b[0;36mopen\u001b[1;34m(self, fullurl, data, timeout)\u001b[0m\n\u001b[0;32m    514\u001b[0m                 \u001b[0mreq\u001b[0m\u001b[1;33m.\u001b[0m\u001b[0mdata\u001b[0m \u001b[1;33m=\u001b[0m \u001b[0mdata\u001b[0m\u001b[1;33m\u001b[0m\u001b[0m\n\u001b[0;32m    515\u001b[0m \u001b[1;33m\u001b[0m\u001b[0m\n\u001b[1;32m--> 516\u001b[1;33m         \u001b[0mreq\u001b[0m\u001b[1;33m.\u001b[0m\u001b[0mtimeout\u001b[0m \u001b[1;33m=\u001b[0m \u001b[0mtimeout\u001b[0m\u001b[1;33m\u001b[0m\u001b[0m\n\u001b[0m\u001b[0;32m    517\u001b[0m         \u001b[0mprotocol\u001b[0m \u001b[1;33m=\u001b[0m \u001b[0mreq\u001b[0m\u001b[1;33m.\u001b[0m\u001b[0mtype\u001b[0m\u001b[1;33m\u001b[0m\u001b[0m\n\u001b[0;32m    518\u001b[0m \u001b[1;33m\u001b[0m\u001b[0m\n",
      "\u001b[1;31mAttributeError\u001b[0m: 'list' object has no attribute 'timeout'"
     ]
    }
   ],
   "source": [
    "# Opening and picking up the content\n",
    "PageLink = [Pagelink for Pagelink in Urls]\n",
    "uPage = ureq(PageLink)\n",
    "PageHtml = uPage.read()\n",
    "uPage.close()"
   ]
  },
  {
   "cell_type": "code",
   "execution_count": null,
   "metadata": {},
   "outputs": [],
   "source": []
  }
 ],
 "metadata": {
  "kernelspec": {
   "display_name": "Python 3",
   "language": "python",
   "name": "python3"
  },
  "language_info": {
   "codemirror_mode": {
    "name": "ipython",
    "version": 3
   },
   "file_extension": ".py",
   "mimetype": "text/x-python",
   "name": "python",
   "nbconvert_exporter": "python",
   "pygments_lexer": "ipython3",
   "version": "3.7.0"
  }
 },
 "nbformat": 4,
 "nbformat_minor": 2
}
